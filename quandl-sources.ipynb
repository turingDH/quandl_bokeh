{
 "cells": [
  {
   "cell_type": "code",
   "execution_count": 1,
   "metadata": {},
   "outputs": [
    {
     "data": {
      "text/html": [
       "<style>.container {width:100%;}</style>"
      ],
      "text/plain": [
       "<IPython.core.display.HTML object>"
      ]
     },
     "metadata": {},
     "output_type": "display_data"
    }
   ],
   "source": [
    "from IPython.core.display import display, HTML\n",
    "display(HTML(\"<style>.container {width:100%;}</style>\"))\n",
    "\n",
    "import bokeh\n",
    "import datetime as dt\n",
    "import pandas as pd\n",
    "from pandasql import sqldf\n",
    "import plotly\n",
    "import quandl\n",
    "\n",
    "from dontAddThis import *  #def a func returning your own api key."
   ]
  },
  {
   "cell_type": "code",
   "execution_count": 2,
   "metadata": {},
   "outputs": [],
   "source": [
    "quandl.ApiConfig.api_key = quandlApi()"
   ]
  },
  {
   "cell_type": "code",
   "execution_count": 3,
   "metadata": {},
   "outputs": [],
   "source": [
    "dow30Plus = ['AXP', 'AAPL', 'BA', 'CAT', 'CSCO', 'CVX', 'XOM', 'GE', 'GS', 'HD', 'IBM', 'INTC', 'JNJ', 'KO', 'JPM', 'MCD', 'MMM', 'MRK', 'MSFT', 'NKE', 'PFE', 'PG', \n",
    "             'TRV', 'UNH', 'UTX', 'VZ', 'V', 'WMT', 'DIS', 'DWDP', 'PEP', 'COF', 'WFC', 'AMZN']\n",
    "test3Stocks = ['AXP', 'AAPL', 'BA']"
   ]
  },
  {
   "cell_type": "code",
   "execution_count": 4,
   "metadata": {},
   "outputs": [],
   "source": [
    "#########################  Wiki Prices Data  #########################\n",
    "wikiPrices = quandl.get_table('WIKI/PRICES', ticker = dow30Plus, date = { 'gte': '2011-01-01', 'lte': dt.datetime.today().strftime('%Y-%m-%d') }, paginate=True)"
   ]
  },
  {
   "cell_type": "code",
   "execution_count": 5,
   "metadata": {},
   "outputs": [
    {
     "data": {
      "text/html": [
       "<div>\n",
       "<style scoped>\n",
       "    .dataframe tbody tr th:only-of-type {\n",
       "        vertical-align: middle;\n",
       "    }\n",
       "\n",
       "    .dataframe tbody tr th {\n",
       "        vertical-align: top;\n",
       "    }\n",
       "\n",
       "    .dataframe thead th {\n",
       "        text-align: right;\n",
       "    }\n",
       "</style>\n",
       "<table border=\"1\" class=\"dataframe\">\n",
       "  <thead>\n",
       "    <tr style=\"text-align: right;\">\n",
       "      <th></th>\n",
       "      <th>ticker</th>\n",
       "      <th>date</th>\n",
       "      <th>adj_close</th>\n",
       "      <th>adj_volume</th>\n",
       "    </tr>\n",
       "    <tr>\n",
       "      <th>None</th>\n",
       "      <th></th>\n",
       "      <th></th>\n",
       "      <th></th>\n",
       "      <th></th>\n",
       "    </tr>\n",
       "  </thead>\n",
       "  <tbody>\n",
       "    <tr>\n",
       "      <th>59165</th>\n",
       "      <td>XOM</td>\n",
       "      <td>2018-02-12</td>\n",
       "      <td>76.42</td>\n",
       "      <td>19095387.0</td>\n",
       "    </tr>\n",
       "    <tr>\n",
       "      <th>59166</th>\n",
       "      <td>XOM</td>\n",
       "      <td>2018-02-13</td>\n",
       "      <td>76.30</td>\n",
       "      <td>11846694.0</td>\n",
       "    </tr>\n",
       "    <tr>\n",
       "      <th>59167</th>\n",
       "      <td>XOM</td>\n",
       "      <td>2018-02-14</td>\n",
       "      <td>76.46</td>\n",
       "      <td>16741063.0</td>\n",
       "    </tr>\n",
       "    <tr>\n",
       "      <th>59168</th>\n",
       "      <td>XOM</td>\n",
       "      <td>2018-02-15</td>\n",
       "      <td>76.21</td>\n",
       "      <td>14030212.0</td>\n",
       "    </tr>\n",
       "    <tr>\n",
       "      <th>59169</th>\n",
       "      <td>XOM</td>\n",
       "      <td>2018-02-16</td>\n",
       "      <td>76.54</td>\n",
       "      <td>13674350.0</td>\n",
       "    </tr>\n",
       "  </tbody>\n",
       "</table>\n",
       "</div>"
      ],
      "text/plain": [
       "      ticker       date  adj_close  adj_volume\n",
       "None                                          \n",
       "59165    XOM 2018-02-12      76.42  19095387.0\n",
       "59166    XOM 2018-02-13      76.30  11846694.0\n",
       "59167    XOM 2018-02-14      76.46  16741063.0\n",
       "59168    XOM 2018-02-15      76.21  14030212.0\n",
       "59169    XOM 2018-02-16      76.54  13674350.0"
      ]
     },
     "execution_count": 5,
     "metadata": {},
     "output_type": "execute_result"
    }
   ],
   "source": [
    "wikiPrices = wikiPrices[['ticker', 'date', 'adj_close', 'adj_volume']]\n",
    "wikiPrices = wikiPrices.sort_values(['ticker','date'])\n",
    "wikiPrices.tail()\n",
    "#wikiPrices.to_csv('wikiPrices_dow30Plus.csv')"
   ]
  },
  {
   "cell_type": "code",
   "execution_count": 6,
   "metadata": {},
   "outputs": [],
   "source": [
    "#########################  Zacks FR Data  #########################\n",
    "zacksFR = quandl.get_table('ZACKS/FR', ticker = dow30Plus)"
   ]
  },
  {
   "cell_type": "code",
   "execution_count": 7,
   "metadata": {},
   "outputs": [
    {
     "data": {
      "text/html": [
       "<div>\n",
       "<style scoped>\n",
       "    .dataframe tbody tr th:only-of-type {\n",
       "        vertical-align: middle;\n",
       "    }\n",
       "\n",
       "    .dataframe tbody tr th {\n",
       "        vertical-align: top;\n",
       "    }\n",
       "\n",
       "    .dataframe thead th {\n",
       "        text-align: right;\n",
       "    }\n",
       "</style>\n",
       "<table border=\"1\" class=\"dataframe\">\n",
       "  <thead>\n",
       "    <tr style=\"text-align: right;\">\n",
       "      <th></th>\n",
       "      <th>ticker</th>\n",
       "      <th>per_end_date</th>\n",
       "      <th>profit_margin</th>\n",
       "      <th>free_cash_flow_per_share</th>\n",
       "    </tr>\n",
       "    <tr>\n",
       "      <th>None</th>\n",
       "      <th></th>\n",
       "      <th></th>\n",
       "      <th></th>\n",
       "      <th></th>\n",
       "    </tr>\n",
       "  </thead>\n",
       "  <tbody>\n",
       "    <tr>\n",
       "      <th>1014</th>\n",
       "      <td>XOM</td>\n",
       "      <td>2017-09-30</td>\n",
       "      <td>6.0002</td>\n",
       "      <td>2.752</td>\n",
       "    </tr>\n",
       "    <tr>\n",
       "      <th>1015</th>\n",
       "      <td>XOM</td>\n",
       "      <td>2017-12-31</td>\n",
       "      <td>NaN</td>\n",
       "      <td>NaN</td>\n",
       "    </tr>\n",
       "  </tbody>\n",
       "</table>\n",
       "</div>"
      ],
      "text/plain": [
       "     ticker per_end_date  profit_margin  free_cash_flow_per_share\n",
       "None                                                             \n",
       "1014    XOM   2017-09-30         6.0002                     2.752\n",
       "1015    XOM   2017-12-31            NaN                       NaN"
      ]
     },
     "execution_count": 7,
     "metadata": {},
     "output_type": "execute_result"
    }
   ],
   "source": [
    "zacksFR = zacksFR[zacksFR.per_type=='Q'][['ticker', 'per_end_date', 'profit_margin', 'free_cash_flow_per_share']]\n",
    "zacksFR = zacksFR.sort_values(['ticker', 'per_end_date'])\n",
    "zacksFR.tail(2)\n",
    "#zacksFR.groupby('ticker').count()"
   ]
  },
  {
   "cell_type": "code",
   "execution_count": 8,
   "metadata": {},
   "outputs": [],
   "source": [
    "#########################  Zacks FC Data  #########################\n",
    "zacksFC = quandl.get_table('ZACKS/FC', ticker = dow30Plus)"
   ]
  },
  {
   "cell_type": "code",
   "execution_count": 9,
   "metadata": {},
   "outputs": [
    {
     "data": {
      "text/html": [
       "<div>\n",
       "<style scoped>\n",
       "    .dataframe tbody tr th:only-of-type {\n",
       "        vertical-align: middle;\n",
       "    }\n",
       "\n",
       "    .dataframe tbody tr th {\n",
       "        vertical-align: top;\n",
       "    }\n",
       "\n",
       "    .dataframe thead th {\n",
       "        text-align: right;\n",
       "    }\n",
       "</style>\n",
       "<table border=\"1\" class=\"dataframe\">\n",
       "  <thead>\n",
       "    <tr style=\"text-align: right;\">\n",
       "      <th></th>\n",
       "      <th>ticker</th>\n",
       "      <th>per_end_date</th>\n",
       "      <th>filing_date</th>\n",
       "      <th>eps_diluted_net</th>\n",
       "      <th>end_cash</th>\n",
       "      <th>incr_decr_cash</th>\n",
       "    </tr>\n",
       "    <tr>\n",
       "      <th>None</th>\n",
       "      <th></th>\n",
       "      <th></th>\n",
       "      <th></th>\n",
       "      <th></th>\n",
       "      <th></th>\n",
       "      <th></th>\n",
       "    </tr>\n",
       "  </thead>\n",
       "  <tbody>\n",
       "    <tr>\n",
       "      <th>1014</th>\n",
       "      <td>XOM</td>\n",
       "      <td>2017-09-30</td>\n",
       "      <td>2017-11-01</td>\n",
       "      <td>0.93</td>\n",
       "      <td>4266.0</td>\n",
       "      <td>609.0</td>\n",
       "    </tr>\n",
       "    <tr>\n",
       "      <th>1015</th>\n",
       "      <td>XOM</td>\n",
       "      <td>2017-12-31</td>\n",
       "      <td>NaT</td>\n",
       "      <td>1.97</td>\n",
       "      <td>NaN</td>\n",
       "      <td>NaN</td>\n",
       "    </tr>\n",
       "  </tbody>\n",
       "</table>\n",
       "</div>"
      ],
      "text/plain": [
       "     ticker per_end_date filing_date  eps_diluted_net  end_cash  \\\n",
       "None                                                              \n",
       "1014    XOM   2017-09-30  2017-11-01             0.93    4266.0   \n",
       "1015    XOM   2017-12-31         NaT             1.97       NaN   \n",
       "\n",
       "      incr_decr_cash  \n",
       "None                  \n",
       "1014           609.0  \n",
       "1015             NaN  "
      ]
     },
     "execution_count": 9,
     "metadata": {},
     "output_type": "execute_result"
    }
   ],
   "source": [
    "zacksFC = zacksFC[zacksFC.per_type=='Q'][['ticker', 'per_end_date', 'filing_date', 'eps_diluted_net', 'end_cash', 'incr_decr_cash']]\n",
    "zacksFC = zacksFC.sort_values(['ticker', 'per_end_date'])\n",
    "zacksFC.tail(2)\n",
    "#zacksFC.groupby('ticker').count()"
   ]
  },
  {
   "cell_type": "code",
   "execution_count": 10,
   "metadata": {},
   "outputs": [],
   "source": [
    "#left join zacksFR to zacksFC; TODO:  use filing date to join on price data (and ffill until next Q10), as that's when market learns of results\n",
    "pysqldf = lambda q: sqldf(q, globals())\n",
    "bothZacks = pysqldf(\"\"\"SELECT a.ticker, a.per_end_date, a.filing_date, a.eps_diluted_net, a.end_cash, a.incr_decr_cash, b.free_cash_flow_per_share, b.profit_margin\n",
    "            FROM zacksFC AS a \n",
    "            LEFT JOIN zacksFR AS b ON a.ticker = b.ticker AND a.per_end_date = b.per_end_date;\"\"\")\n",
    "\n",
    "bothZacks_and_price = pysqldf(\"\"\"SELECT a.*, b.filing_date, b.eps_diluted_net, b.end_cash, b.incr_decr_cash, b.free_cash_flow_per_share, b.profit_margin\n",
    "                    FROM wikiPrices AS a \n",
    "                    LEFT JOIN bothZacks AS b ON a.ticker = b.ticker AND a.date = b.filing_date     \n",
    "                    \"\"\")"
   ]
  },
  {
   "cell_type": "code",
   "execution_count": 11,
   "metadata": {},
   "outputs": [],
   "source": [
    "# probably best to group and apply ffill here than add more computation to later flask route\n",
    "bothZacks_and_price_ffilled = bothZacks_and_price.groupby('ticker').ffill()\n",
    "\n",
    "bothZacks_and_price_ffilled['date'] = pd.to_datetime(bothZacks_and_price_ffilled['date'])\n",
    "bothZacks_and_price_ffilled = bothZacks_and_price_ffilled[bothZacks_and_price_ffilled['date'] > '2011-12-31']\n",
    "\n",
    "bothZacks_and_price_ffilled.head()\n",
    "bothZacks_and_price_ffilled.to_csv('bothZacks_and_price_ffilled.csv')"
   ]
  },
  {
   "cell_type": "code",
   "execution_count": 12,
   "metadata": {},
   "outputs": [],
   "source": [
    "#TODO:  pull gdp annualized quarterly gdp (perhaps unemployment, etc.) data and join before defining Bokeh functions.  \n",
    "#If compute on interactivity is trivial: join on fly, else: accept repeat data across all tickers\n",
    "#Must calculate tooltip (or mtext in a <span>?) values such as highest PE, return by ticker, comparable return on SP500, etc. per selected period on fly!"
   ]
  },
  {
   "cell_type": "code",
   "execution_count": 13,
   "metadata": {},
   "outputs": [
    {
     "data": {
      "text/plain": [
       "{Timestamp('2017-08-07 00:00:00')}"
      ]
     },
     "execution_count": 13,
     "metadata": {},
     "output_type": "execute_result"
    }
   ],
   "source": [
    "#print(bothZacks_and_price_ffilled[bothZacks_and_price_ffilled.ticker == 'AAPL'].shape[0])\n",
    "msftDays = bothZacks_and_price_ffilled[bothZacks_and_price_ffilled.ticker == 'MSFT']['date']\n",
    "aaplDays = bothZacks_and_price_ffilled[bothZacks_and_price_ffilled.ticker == 'AAPL']['date']\n",
    "set(msftDays) - set(aaplDays) # what\\'s up with 2017-08-07??  Maybe (1) just linearly interpolate and notate in tooltip, if this is unlikely and rare...? (2) remove non set records."
   ]
  },
  {
   "cell_type": "code",
   "execution_count": 14,
   "metadata": {},
   "outputs": [
    {
     "data": {
      "text/plain": [
       "None                                 int64\n",
       "ticker                              object\n",
       "date                        datetime64[ns]\n",
       "adj_close                          float64\n",
       "adj_volume                         float64\n",
       "filing_date                         object\n",
       "eps_diluted_net                    float64\n",
       "end_cash                           float64\n",
       "incr_decr_cash                     float64\n",
       "free_cash_flow_per_share           float64\n",
       "profit_margin                      float64\n",
       "dtype: object"
      ]
     },
     "execution_count": 14,
     "metadata": {},
     "output_type": "execute_result"
    }
   ],
   "source": [
    "#bothZacks_and_price_ffilled[bothZacks_and_price_ffilled['date']=='2017-08-07'].sort_values('ticker')\n",
    "#bothZacks_and_price_ffilled.groupby('ticker').size().sort_values()\n",
    "bothZacks_and_price_ffilled.dtypes"
   ]
  },
  {
   "cell_type": "code",
   "execution_count": 15,
   "metadata": {},
   "outputs": [],
   "source": [
    "from bokeh.io import notebook, curdoc\n",
    "from bokeh.models import HoverTool, Select\n",
    "from bokeh.plotting import figure, output_file, show, ColumnDataSource\n",
    "\n",
    "# use try except for possible instance of adding new ticker that IPO'd later than all others.\n",
    "\n",
    "myTicker1 = 'AAPL'\n",
    "myTicker1_date = bothZacks_and_price_ffilled[bothZacks_and_price_ffilled.ticker == myTicker1]['date']\n",
    "myTicker1_adj_close = bothZacks_and_price_ffilled[bothZacks_and_price_ffilled.ticker == myTicker1]['adj_close']\n",
    "myTicker1_symbol = [myTicker1] * bothZacks_and_price_ffilled[bothZacks_and_price_ffilled.ticker == myTicker1]['ticker'].shape[0]\n",
    "\n",
    "myTicker2 = 'AMZN'\n",
    "myTicker2_date = bothZacks_and_price_ffilled[bothZacks_and_price_ffilled.ticker == myTicker2]['date']\n",
    "myTicker2_adj_close = bothZacks_and_price_ffilled[bothZacks_and_price_ffilled.ticker == myTicker2]['adj_close']\n",
    "myTicker2_symbol = [myTicker2] * bothZacks_and_price_ffilled[bothZacks_and_price_ffilled.ticker == myTicker2]['ticker'].shape[0]\n",
    "\n",
    "source = ColumnDataSource(data=dict(myTicker1_date = myTicker1_date,                                    \n",
    "                                    myTicker2_date = myTicker2_date,                                    \n",
    "                                    myTicker1_adj_close=myTicker1_adj_close, \n",
    "                                    myTicker2_adj_close=myTicker2_adj_close, \n",
    "                                    myTicker1_symbol=myTicker1_symbol,\n",
    "                                    myTicker2_symbol=myTicker2_symbol))\n",
    "\n",
    "#TODO:  how to apply tooltip by glyph?\n",
    "hover = HoverTool(tooltips = [('Trading Day', '@{myTicker1_date}{%F}'), (myTicker1, '@{myTicker1_adj_close}{($ 0.000 a)}'), (myTicker2, '@{myTicker2_adj_close}{($ 0.000 a)}')],\n",
    "                 formatters={'myTicker1_date':'datetime'}\n",
    "                 )\n",
    "\n",
    "plot = figure(x_axis_label='Trading Date', y_axis_label='Adjusted Close', sizing_mode='stretch_both', x_axis_type='datetime', tools=[hover, 'box_select'])\n",
    "\n",
    "plot.line('myTicker1_date', 'myTicker1_adj_close', source=source, line_width=2)\n",
    "plot.line('myTicker2_date', 'myTicker2_adj_close', source=source, line_width=2)\n",
    "\n",
    "output_file('aapl_amzn_static1.html')\n",
    "\n",
    "show(plot)"
   ]
  }
 ],
 "metadata": {
  "kernelspec": {
   "display_name": "Python 3",
   "language": "python",
   "name": "python3"
  },
  "language_info": {
   "codemirror_mode": {
    "name": "ipython",
    "version": 3
   },
   "file_extension": ".py",
   "mimetype": "text/x-python",
   "name": "python",
   "nbconvert_exporter": "python",
   "pygments_lexer": "ipython3",
   "version": "3.5.2"
  }
 },
 "nbformat": 4,
 "nbformat_minor": 2
}
